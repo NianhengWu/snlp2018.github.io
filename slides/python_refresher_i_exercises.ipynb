{
 "cells": [
  {
   "cell_type": "markdown",
   "metadata": {},
   "source": [
    "# Python Refresher I: Exercise Solutions\n",
    "\n",
    "The 36 part-of-speech tags used in the Penn Treebank Project ([overview](www.ling.upenn.edu/courses/Fall_2003/ling001/penn_treebank_pos.html)):"
   ]
  },
  {
   "cell_type": "code",
   "execution_count": 1,
   "metadata": {
    "collapsed": true
   },
   "outputs": [],
   "source": [
    "penn_pos_tags = \"CC CD DT EX FW IN JJ JJR JJS \" \\\n",
    "                \"LS MD NN NNS NNP NNPS PDT POS PRP \" \\\n",
    "                \"PRP$ RB RBR RBS RP SYM TO UH VB \" \\\n",
    "                \"VBD VBG VBN VBP VBZ WDT WP WP$ WRB\""
   ]
  },
  {
   "cell_type": "markdown",
   "metadata": {},
   "source": [
    "### 1) idx2tag\n",
    "\n",
    "Transform the string into a list."
   ]
  },
  {
   "cell_type": "code",
   "execution_count": 2,
   "metadata": {
    "collapsed": false
   },
   "outputs": [
    {
     "name": "stdout",
     "output_type": "stream",
     "text": [
      "['CC', 'CD', 'DT', 'EX', 'FW', 'IN', 'JJ', 'JJR', 'JJS', 'LS', 'MD', 'NN', 'NNS', 'NNP', 'NNPS', 'PDT', 'POS', 'PRP', 'PRP$', 'RB', 'RBR', 'RBS', 'RP', 'SYM', 'TO', 'UH', 'VB', 'VBD', 'VBG', 'VBN', 'VBP', 'VBZ', 'WDT', 'WP', 'WP$', 'WRB']\n"
     ]
    }
   ],
   "source": [
    "idx2tag = penn_pos_tags.split()\n",
    "\n",
    "assert 36 == len(idx2tag)\n",
    "assert 'TO' == idx2tag[24]\n",
    "assert 24 == idx2tag.index('TO')\n",
    "\n",
    "print(idx2tag)"
   ]
  },
  {
   "cell_type": "markdown",
   "metadata": {},
   "source": [
    "### 2) tag2idx\n",
    "\n",
    "Create a dictionary that inverses the list."
   ]
  },
  {
   "cell_type": "code",
   "execution_count": 3,
   "metadata": {
    "collapsed": false
   },
   "outputs": [
    {
     "name": "stdout",
     "output_type": "stream",
     "text": [
      "{'IN': 5, 'EX': 3, 'JJ': 6, 'WDT': 32, 'NNS': 12, 'NN': 11, 'DT': 2, 'MD': 10, 'VBG': 28, 'RBR': 20, 'VB': 26, 'RP': 22, 'VBP': 30, 'JJR': 7, 'TO': 24, 'CD': 1, 'VBN': 29, 'UH': 25, 'WRB': 35, 'RB': 19, 'NNP': 13, 'JJS': 8, 'POS': 16, 'WP': 33, 'PRP$': 18, 'NNPS': 14, 'PRP': 17, 'PDT': 15, 'VBD': 27, 'WP$': 34, 'LS': 9, 'CC': 0, 'FW': 4, 'SYM': 23, 'RBS': 21, 'VBZ': 31}\n"
     ]
    }
   ],
   "source": [
    "tag2idx = {tag: idx for idx, tag in enumerate(idx2tag)}\n",
    "\n",
    "assert all(idx == tag2idx[tag]\n",
    "           for idx, tag in enumerate(idx2tag))\n",
    "\n",
    "print(tag2idx)"
   ]
  },
  {
   "cell_type": "markdown",
   "metadata": {},
   "source": [
    "###  3) sent\n",
    "\n",
    "Encode the sentence below as a list of integers, based on tag2idx."
   ]
  },
  {
   "cell_type": "code",
   "execution_count": 4,
   "metadata": {
    "collapsed": false
   },
   "outputs": [
    {
     "data": {
      "text/plain": [
       "[2, 11, 17, 10, 28, 31, 19, 2, 6, 11, 36, 0, 17, 10, 26, 2, 11, 29, 5, 11, 37]"
      ]
     },
     "execution_count": 4,
     "metadata": {},
     "output_type": "execute_result"
    }
   ],
   "source": [
    "sent = \"DT NN PRP MD VBG VBZ RB DT JJ NN , \" \\\n",
    "       \"CC PRP MD VB DT NN VBN IN NN .\"\n",
    "    \n",
    "sent_int = []\n",
    "for tag in sent.split():\n",
    "    try:\n",
    "        sent_int.append(tag2idx[tag])\n",
    "    except KeyError:\n",
    "        # The tag isn't in the list and dictionary yet, so let's add it:\n",
    "        n_tags = len(idx2tag)\n",
    "        idx2tag.append(tag)\n",
    "        tag2idx[tag] = n_tags\n",
    "        sent_int.append(n_tags)\n",
    "\n",
    "# idx2tag and tag2idx should still correspond to one another.\n",
    "assert all(idx == tag2idx[tag]\n",
    "           for idx, tag in enumerate(idx2tag))\n",
    "\n",
    "sent_int"
   ]
  },
  {
   "cell_type": "markdown",
   "metadata": {},
   "source": [
    "### 4) one-hot encoding\n",
    "\n",
    "Write a function that creates one-hot arrays."
   ]
  },
  {
   "cell_type": "code",
   "execution_count": 5,
   "metadata": {
    "collapsed": false
   },
   "outputs": [
    {
     "name": "stdout",
     "output_type": "stream",
     "text": [
      "[0, 0, 1, 0, 0]\n",
      "[0, 1, 0, 0, 0, 0]\n",
      "[0, 0, 0, 0, 0, 1]\n"
     ]
    }
   ],
   "source": [
    "def one_hot(idx, dim):\n",
    "    \"\"\"\n",
    "    Returns a one-hot vector.\n",
    "\n",
    "    Arguments:\n",
    "    idx: An int giving the position of the `1`.\n",
    "    dim: The length of the list.\n",
    "\n",
    "    Returns:\n",
    "    A list(int) that is a one-hot vector.\n",
    "    \"\"\"\n",
    "    one_hot = [0] * dim\n",
    "    one_hot[idx] = 1\n",
    "    return one_hot\n",
    "\n",
    "# Let's try it out:\n",
    "print(one_hot(2, 5))\n",
    "print(one_hot(1, 6))\n",
    "print(one_hot(5, 6))"
   ]
  },
  {
   "cell_type": "markdown",
   "metadata": {},
   "source": [
    "### 5) matrix\n",
    "\n",
    "Encode the sentence as a list of one-hot arrays."
   ]
  },
  {
   "cell_type": "code",
   "execution_count": 6,
   "metadata": {
    "collapsed": true
   },
   "outputs": [],
   "source": [
    "dim = len(tag2idx)\n",
    "matrix = [one_hot(idx, dim) for idx in sent_int]\n",
    "\n",
    "assert len(matrix) == len(sent_int)\n",
    "assert len(matrix[0]) == len(tag2idx)\n",
    "assert matrix[0] == one_hot(tag2idx['DT'], len(tag2idx))"
   ]
  },
  {
   "cell_type": "markdown",
   "metadata": {},
   "source": [
    "### 6) writing and reading files\n",
    "\n",
    "Save and load 2D matrices.\n",
    "\n",
    "*Technically, removing the parentheses before/after the list and the whitespace is **not** necessary if we just want a way of persisting the matrix so we can load it again later with* `load_matrix`. *However, the exercise description specifies the CSV format, so I'm removing these extra characters, so other applications that use CSV input could also work with the file we write here.*"
   ]
  },
  {
   "cell_type": "code",
   "execution_count": 7,
   "metadata": {
    "collapsed": true
   },
   "outputs": [],
   "source": [
    "def save_matrix(matrix, file):\n",
    "    with open(file, 'w', encoding='utf8') as f:\n",
    "        for row in matrix:\n",
    "            line = str(row)\n",
    "            # Get rid of the list parentheses [ ] and the blanks.\n",
    "            line = line[1:-1].replace(' ', '')\n",
    "            f.write(line + '\\n')\n",
    "    return file\n",
    "\n",
    "\n",
    "\n",
    "def load_matrix(file):\n",
    "    matrix = []\n",
    "    with open(file, 'r', encoding='utf8') as f:\n",
    "        for line in f:\n",
    "            line = '[' + line + ']'\n",
    "            row = eval(line)\n",
    "            matrix.append(row)\n",
    "    return matrix\n",
    "\n",
    "\n",
    "path = 'matrix.csv'\n",
    "assert matrix == load_matrix(save_matrix(matrix, path))"
   ]
  }
 ],
 "metadata": {
  "anaconda-cloud": {},
  "kernelspec": {
   "display_name": "Python [default]",
   "language": "python",
   "name": "python3"
  },
  "language_info": {
   "codemirror_mode": {
    "name": "ipython",
    "version": 3
   },
   "file_extension": ".py",
   "mimetype": "text/x-python",
   "name": "python",
   "nbconvert_exporter": "python",
   "pygments_lexer": "ipython3",
   "version": "3.5.2"
  }
 },
 "nbformat": 4,
 "nbformat_minor": 1
}
